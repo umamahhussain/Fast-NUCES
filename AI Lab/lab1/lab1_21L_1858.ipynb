{
  "nbformat": 4,
  "nbformat_minor": 0,
  "metadata": {
    "colab": {
      "provenance": []
    },
    "kernelspec": {
      "name": "python3",
      "display_name": "Python 3"
    },
    "language_info": {
      "name": "python"
    }
  },
  "cells": [
    {
      "cell_type": "markdown",
      "source": [
        "# Question 1:\n",
        "Ask user to give two float input for length and breadth of a rectangle and print area type casted to int."
      ],
      "metadata": {
        "id": "Rafzbiva9s9l"
      }
    },
    {
      "cell_type": "code",
      "source": [
        "len=0;\n",
        "width=0;\n",
        "\n",
        "print(\"Enter the length: \");\n",
        "len=input();\n",
        "print(\"Enter the width: \");\n",
        "width=input();\n",
        "\n",
        "area=float(len)*float(width);\n",
        "\n",
        "print(\"The are of the Rectangle is: \",int(area));\n"
      ],
      "metadata": {
        "colab": {
          "base_uri": "https://localhost:8080/"
        },
        "id": "8hufdRJmp4vA",
        "outputId": "ab52ffe9-cdfa-4a85-ae89-de02de4baaca"
      },
      "execution_count": 1,
      "outputs": [
        {
          "output_type": "stream",
          "name": "stdout",
          "text": [
            "Enter the length: \n",
            "2.2\n",
            "Enter the width: \n",
            "2.2\n",
            "The are of the Rectangle is:  4\n"
          ]
        }
      ]
    },
    {
      "cell_type": "markdown",
      "source": [
        "# Question 2:\n",
        "Take name, roll number and GPA from user and print in the below format:\n",
        "\n",
        "My name is xyz and my roll number is xyz. My GPA is xyz"
      ],
      "metadata": {
        "id": "5xIrriST9yU2"
      }
    },
    {
      "cell_type": "code",
      "source": [
        "print(\"Enter your name: \");\n",
        "name=input();\n",
        "\n",
        "print(\"Enter your rollnum: \");\n",
        "rollnum=input();\n",
        "\n",
        "print(\"Enter GPA: \");\n",
        "gpa=input();\n",
        "\n",
        "print(\"My name is \",name, \"and my rollnumber is \",rollnum,\". My GPA is \",gpa)"
      ],
      "metadata": {
        "colab": {
          "base_uri": "https://localhost:8080/"
        },
        "id": "szIYMsr_p_FW",
        "outputId": "e1f78920-a08f-4796-a3ed-87c14f75fab8"
      },
      "execution_count": 4,
      "outputs": [
        {
          "output_type": "stream",
          "name": "stdout",
          "text": [
            "Enter your name: \n",
            "umamah\n",
            "Enter your rollnum: \n",
            "1858\n",
            "Enter GPA: \n",
            "3.2\n",
            "My name is  umamah and my rollnumber is  1858 . My GPA is  3.2\n"
          ]
        }
      ]
    },
    {
      "cell_type": "markdown",
      "source": [
        "# Question3\n",
        "\n",
        "Store three integers in x, y and z. Print their sum and product."
      ],
      "metadata": {
        "id": "-66paRIF93MN"
      }
    },
    {
      "cell_type": "code",
      "source": [
        "print(\"Enter the first number: \");\n",
        "x=int(input())\n",
        "print(\"Enter the second number: \");\n",
        "y=int(input())\n",
        "print(\"Enter the third number: \");\n",
        "z=int(input())\n",
        "\n",
        "sum=x+y+z\n",
        "print(\"The sum is: \",sum)\n",
        "\n",
        "prod=x*y*z;\n",
        "print(\"The product is: \",prod)"
      ],
      "metadata": {
        "colab": {
          "base_uri": "https://localhost:8080/"
        },
        "id": "HHesPj2qsJ16",
        "outputId": "ca0e84d6-5bc6-4167-a9c0-3c7f5e5174df"
      },
      "execution_count": 5,
      "outputs": [
        {
          "output_type": "stream",
          "name": "stdout",
          "text": [
            "Enter the first number: \n",
            "20\n",
            "Enter the second number: \n",
            "35\n",
            "Enter the third number: \n",
            "2\n",
            "The sum is:  57\n",
            "The product is:  1400\n"
          ]
        }
      ]
    },
    {
      "cell_type": "markdown",
      "source": [
        "#Question4\n",
        "\n",
        "Suppose passing marks of a subject is 35. Take input of marks from user and check whether it is greater than passing marks or not"
      ],
      "metadata": {
        "id": "NkaVo3oH983q"
      }
    },
    {
      "cell_type": "code",
      "source": [
        "print(\"Enter the marks: \")\n",
        "marks = int(input())\n",
        "\n",
        "if marks <= 35:\n",
        "    print(\"You have failed\")\n",
        "else:\n",
        "    print(\"You have passed\")\n"
      ],
      "metadata": {
        "colab": {
          "base_uri": "https://localhost:8080/"
        },
        "id": "LidShAGCsl6H",
        "outputId": "393898be-f6a9-44c9-8463-641b95e72263"
      },
      "execution_count": 7,
      "outputs": [
        {
          "output_type": "stream",
          "name": "stdout",
          "text": [
            "Enter the marks: \n",
            "45\n",
            "You have passed\n"
          ]
        }
      ]
    },
    {
      "cell_type": "markdown",
      "source": [
        "# Question5\n",
        "\n",
        "A school has following rules for grading system:\n",
        "\n",
        "1. Below 45 - F\n",
        "2. 45 to 49 - D\n",
        "3. 50 to 59 - C\n",
        "4. 60 to 79 - B\n",
        "5. 80 or above - A\n",
        "Ask user to enter marks and print the corresponding grade."
      ],
      "metadata": {
        "id": "gqdC1LCZ-CPW"
      }
    },
    {
      "cell_type": "code",
      "source": [
        "print(\"Please enter your marks: \");\n",
        "marks=int(input())\n",
        "\n",
        "if(marks<45):\n",
        "    print(\"You have an F grade\")\n",
        "if(marks>=45 and marks<=49):\n",
        "    print(\"You have a D grade\")\n",
        "if(marks>=50 and marks<=59):\n",
        "    print(\"You have a C grade\")\n",
        "if(marks>=60 and marks<=79):\n",
        "    print(\"You have a B grade\")\n",
        "if( marks>=80):\n",
        "    print(\"You have an A grade\")\n"
      ],
      "metadata": {
        "colab": {
          "base_uri": "https://localhost:8080/"
        },
        "id": "l92UH3aKYK-g",
        "outputId": "13c27f5f-ee49-4efe-94cf-77a92767460a"
      },
      "execution_count": 8,
      "outputs": [
        {
          "output_type": "stream",
          "name": "stdout",
          "text": [
            "Please enter your marks: \n",
            "55\n",
            "You have a C grade\n"
          ]
        }
      ]
    },
    {
      "cell_type": "markdown",
      "source": [
        "# Question6\n",
        "\n",
        "Print all elements of a list using for loop."
      ],
      "metadata": {
        "id": "cwL--Q8Z-IUH"
      }
    },
    {
      "cell_type": "code",
      "source": [
        "arr=[1,2,3.5,\"apple\",\"mango\"]\n",
        "\n",
        "for i in arr:\n",
        "    print(i)"
      ],
      "metadata": {
        "colab": {
          "base_uri": "https://localhost:8080/"
        },
        "id": "4ccFv8FDYrE7",
        "outputId": "b72dd836-fb42-405f-ad6c-a903a629d720"
      },
      "execution_count": 2,
      "outputs": [
        {
          "output_type": "stream",
          "name": "stdout",
          "text": [
            "1\n",
            "2\n",
            "3.5\n",
            "apple\n",
            "mango\n"
          ]
        }
      ]
    },
    {
      "cell_type": "markdown",
      "source": [
        "# Question7\n",
        "\n",
        "Take 5 integers from user using for loop and print their sum on the screen."
      ],
      "metadata": {
        "id": "Cj4M_9My-OR1"
      }
    },
    {
      "cell_type": "code",
      "source": [
        "arr=[0]*5\n",
        "sum=0;\n",
        "print(\"Enter 5 numbers: \")\n",
        "\n",
        "for i in range(0,5):\n",
        "    x=int(input())\n",
        "    sum=sum+x\n",
        "\n",
        "print(\"The sum is: \",sum)"
      ],
      "metadata": {
        "colab": {
          "base_uri": "https://localhost:8080/"
        },
        "id": "ir1ryZGEaNpY",
        "outputId": "4fbc8f61-ef05-47a5-fae6-f32ffcb2342f"
      },
      "execution_count": 9,
      "outputs": [
        {
          "output_type": "stream",
          "name": "stdout",
          "text": [
            "Enter 5 numbers: \n",
            "2\n",
            "3\n",
            "1\n",
            "2\n",
            "2\n",
            "The sum is:  10\n"
          ]
        }
      ]
    },
    {
      "cell_type": "markdown",
      "source": [
        "# Question8\n",
        "\n",
        "Take 5 integers from user using while loop and print their sum on the screen."
      ],
      "metadata": {
        "id": "kXc90fFA-Zn6"
      }
    },
    {
      "cell_type": "code",
      "source": [
        "arr=[0]*5\n",
        "sum=0;\n",
        "print(\"Enter 5 numbers: \")\n",
        "i=0;\n",
        "\n",
        "while i in range(0,5):\n",
        "    x=int(input())\n",
        "    sum=sum+x\n",
        "    i=i+1\n",
        "\n",
        "print(\"The sum is: \",sum)"
      ],
      "metadata": {
        "colab": {
          "base_uri": "https://localhost:8080/"
        },
        "id": "WskcWRf1ahiV",
        "outputId": "5e30c395-3061-42e2-877b-6153e2ed4f7d"
      },
      "execution_count": 10,
      "outputs": [
        {
          "output_type": "stream",
          "name": "stdout",
          "text": [
            "Enter 5 numbers: \n",
            "1\n",
            "1\n",
            "1\n",
            "2\n",
            "2\n",
            "The sum is:  7\n"
          ]
        }
      ]
    },
    {
      "cell_type": "markdown",
      "source": [
        "#Question9\n",
        "\n",
        "Take two integer numbers from the user, print their product only if the product is equal to or lower than 1000, else print their sum."
      ],
      "metadata": {
        "id": "Dunx-Qpe-iVx"
      }
    },
    {
      "cell_type": "code",
      "source": [
        "2print(\"Enter the first number: \")\n",
        "num1=int(input())\n",
        "print(\"Enter the second number: \")\n",
        "num2=int(input())\n",
        "\n",
        "if(num1*num2<=1000):\n",
        "    print(\"The product of the two numbers is: \",num1*num2)\n",
        "else:\n",
        "    print(\"The sum of the two numbers is: \",num1+num2)"
      ],
      "metadata": {
        "colab": {
          "base_uri": "https://localhost:8080/"
        },
        "id": "cCqpJqJcbOpp",
        "outputId": "fe03eef4-43a1-4891-8f70-846cb001ad32"
      },
      "execution_count": 11,
      "outputs": [
        {
          "output_type": "stream",
          "name": "stdout",
          "text": [
            "Enter the first number: \n",
            "1000\n",
            "Enter the second number: \n",
            "2\n",
            "The sum of the two numbers is:  1002\n"
          ]
        }
      ]
    },
    {
      "cell_type": "markdown",
      "source": [
        "# Question 10\n",
        "\n",
        "Create a function that takes a base number (b) and an exponent number (e) and returns the b^e calculation, without using built-in power function. Call the function in the next cell and show some outputs.\n",
        "For Example:\n",
        "myPower(2,3) return 8\n",
        "\n"
      ],
      "metadata": {
        "id": "DGlPj-ZkQPCW"
      }
    },
    {
      "cell_type": "code",
      "source": [
        "def power(x,e):\n",
        "\n",
        "    ans=1;\n",
        "    ans=int(ans);\n",
        "\n",
        "    for i in range(e):\n",
        "        ans=ans*x\n",
        "\n",
        "    print(\"The answer is: \",ans);\n",
        "\n",
        "\n",
        "print(\"Enter the number:\")\n",
        "x=input();\n",
        "x=int(x);\n",
        "\n",
        "print(\"Enter the exponent:\")\n",
        "e=input();\n",
        "e=int(e);\n",
        "\n",
        "power(x,e);\n"
      ],
      "metadata": {
        "colab": {
          "base_uri": "https://localhost:8080/"
        },
        "id": "BODlBmkVbUFt",
        "outputId": "e25442ff-a689-4f0c-e838-c17ae89b73de"
      },
      "execution_count": 12,
      "outputs": [
        {
          "output_type": "stream",
          "name": "stdout",
          "text": [
            "Enter the number:\n",
            "2\n",
            "Enter the exponent:\n",
            "4\n",
            "The answer is:  16\n"
          ]
        }
      ]
    },
    {
      "cell_type": "markdown",
      "source": [
        "# Question 11\n",
        "\n",
        "Write a function “Counter” that receives a character array and calculates Total characters, uppercases, lowercases and spaces then return them all. (In this question, all characters except spaces are counted as letters).\n",
        "\n",
        "Sample Run:\n",
        "\n",
        "Input:\n",
        "\n",
        "Hello, I am a student of FAST University.\n",
        "\n",
        "Values returned:\n",
        "\n",
        "No. of letters are: 34\n",
        "\n",
        "No. of spaces are: 7\n",
        "\n",
        "No. of uppercase letters are: 7\n",
        "\n",
        "No. of lowercase letters: 25\n",
        "\n",
        "\n",
        "\n"
      ],
      "metadata": {
        "id": "tfqdWkiQQT3_"
      }
    },
    {
      "cell_type": "code",
      "source": [
        "def Counter(arr):\n",
        "    uppercount=0;\n",
        "    lowercount=0;\n",
        "    spaces=0;\n",
        "\n",
        "    for i in arr:\n",
        "        if(i>='A' and i<='Z'):\n",
        "            uppercount=uppercount+1;\n",
        "        if(i>='a' and i<='z'):\n",
        "            lowercount=lowercount+1;\n",
        "        if(i==\" \"):\n",
        "            spaces=spaces+1;\n",
        "\n",
        "    print(\"The Upper Case Characters are: \",uppercount)\n",
        "    print(\"The Lower Case Characters are: \",lowercount)\n",
        "    print(\"The Space Characters are: \",spaces)\n",
        "\n",
        "\n",
        "\n",
        "arr =\"\"\"My Name is Umamah\"\"\";\n",
        "Counter(arr);"
      ],
      "metadata": {
        "colab": {
          "base_uri": "https://localhost:8080/"
        },
        "id": "vPzFbQN6bZ8s",
        "outputId": "4246613a-184d-4399-ad1b-cc1600a19187"
      },
      "execution_count": 13,
      "outputs": [
        {
          "output_type": "stream",
          "name": "stdout",
          "text": [
            "The Upper Case Characters are:  3\n",
            "The Lower Case Characters are:  11\n",
            "The Space Characters are:  3\n"
          ]
        }
      ]
    },
    {
      "cell_type": "markdown",
      "source": [
        "#Question 12\n",
        "\n",
        "Given two  arrays nums1 and nums2 of size m and n respectively, merge the arrays, sort the final array and then print it in reverse order. You may use built in functions.\n"
      ],
      "metadata": {
        "id": "v3SU7w21HR4X"
      }
    },
    {
      "cell_type": "code",
      "source": [
        "def sortandprint(arr1, arr2):\n",
        "    size1 = len(arr1)\n",
        "    size2 = len(arr2)\n",
        "    size3 = size1 + size2\n",
        "    arr3 = [0] * size3\n",
        "    index=0;\n",
        "\n",
        "    for i in range(len(arr1)):\n",
        "        arr3[index]=arr1[i];\n",
        "        index=index+1;\n",
        "\n",
        "    for i in range(len(arr2)):\n",
        "        arr3[index]=arr2[i];\n",
        "        index=index+1;\n",
        "\n",
        "    for i in range(i,len(arr3)):\n",
        "        for j in range(i+1,len(arr3)):\n",
        "            if(arr3[i]>arr3[j]):\n",
        "                temp=arr3[i];\n",
        "                arr3[i]=arr3[j];\n",
        "                arr3[j]=temp;\n",
        "\n",
        "\n",
        "    print(\"The sorted array is: \",arr3);\n",
        "    print(\"The sorted array in reverse is: \");\n",
        "\n",
        "    i=len(arr3)-1\n",
        "    while i in arr3:\n",
        "        print(arr3[i])\n",
        "        i=i-1\n",
        "\n",
        "    print(arr3[0])\n",
        "\n",
        "\n",
        "\n",
        "num1 = [1, 2, 3,6,7]\n",
        "num2 = [4, 5]\n",
        "sortandprint(num1, num2)\n"
      ],
      "metadata": {
        "colab": {
          "base_uri": "https://localhost:8080/"
        },
        "id": "llLB-XyHdi1Q",
        "outputId": "05988429-430f-4869-87c5-906222d5feb5"
      },
      "execution_count": 3,
      "outputs": [
        {
          "output_type": "stream",
          "name": "stdout",
          "text": [
            "The sorted array is:  [1, 2, 3, 4, 5, 6, 7]\n",
            "The sorted array in reverse is: \n",
            "7\n",
            "6\n",
            "5\n",
            "4\n",
            "3\n",
            "2\n",
            "1\n"
          ]
        }
      ]
    },
    {
      "cell_type": "markdown",
      "source": [
        "#Submission Instructions\n",
        "\n",
        "Always read the submission instructions carefully.\n",
        "Rename your Jupyter notebook to your roll number and download the notebook as .ipynb extension.\n",
        "To download the required file, go to File->Download .ipynb\n",
        "Only submit the .ipynb file. DO NOT zip or rar your submission file\n",
        "Submit this file on Google Classroom under the relevant assignment.\n",
        "Late submissions will NOT AT ALL be accepted\n"
      ],
      "metadata": {
        "id": "HjMfc-2rRDff"
      }
    },
    {
      "cell_type": "code",
      "source": [],
      "metadata": {
        "id": "0Gw2_xEXRCMv"
      },
      "execution_count": null,
      "outputs": []
    }
  ]
}