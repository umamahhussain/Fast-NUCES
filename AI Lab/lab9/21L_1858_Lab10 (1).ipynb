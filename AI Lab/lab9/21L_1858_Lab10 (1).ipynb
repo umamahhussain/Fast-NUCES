{
  "nbformat": 4,
  "nbformat_minor": 0,
  "metadata": {
    "colab": {
      "provenance": []
    },
    "kernelspec": {
      "name": "python3",
      "display_name": "Python 3"
    },
    "language_info": {
      "name": "python"
    }
  },
  "cells": [
    {
      "cell_type": "code",
      "source": [
        "import numpy as np\n",
        "\n",
        "X = np.array([[0, 0], [0, 1], [1, 0], [1, 1]])\n",
        "AND_labels = np.array([0, 0, 0, 1])\n",
        "OR_labels = np.array([0, 1, 1, 1])\n",
        "\n",
        "weights = np.array([1.0, 1.0])\n",
        "bias = 1.0\n",
        "\n",
        "learning_rate = 0.5\n",
        "\n",
        "\n",
        "def activation(net_input):\n",
        "    return 1 if net_input > 0 else 0\n",
        "\n",
        "def train_perceptron(X, labels):\n",
        "    global weights, bias\n",
        "\n",
        "    for j in range(50):\n",
        "        for i in range(len(X)):\n",
        "            net_input = np.dot(X[i], weights) + bias\n",
        "            output = activation(net_input)\n",
        "            error = labels[i] - output\n",
        "            weights += learning_rate * error * X[i]\n",
        "            bias += learning_rate * error\n",
        "\n",
        "predicted = train_perceptron(X, AND_labels)\n",
        "print(\"AND perceptron weights:\", weights, \"bias:\", bias)\n",
        "\n",
        "weights = np.array([1.0, 1.0])\n",
        "bias = 1.0\n",
        "\n",
        "predicted = train_perceptron(X, OR_labels)\n",
        "print(\"\\nOR perceptron weights:\", weights, \"bias:\", bias)\n",
        "\n"
      ],
      "metadata": {
        "colab": {
          "base_uri": "https://localhost:8080/"
        },
        "id": "DOLwDSKr0s0c",
        "outputId": "ac825e5f-eb07-4a6c-999d-bd3973df394b"
      },
      "execution_count": 1,
      "outputs": [
        {
          "output_type": "stream",
          "name": "stdout",
          "text": [
            "AND perceptron weights: [0.5 0.5] bias: -0.5\n",
            "\n",
            "OR perceptron weights: [1. 1.] bias: 0.0\n"
          ]
        }
      ]
    }
  ]
}